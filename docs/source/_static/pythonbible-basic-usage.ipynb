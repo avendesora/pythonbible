{
 "cells": [
  {
   "cell_type": "markdown",
   "id": "explicit-index",
   "metadata": {},
   "source": [
    "# pythonbible Installation\n",
    "\n",
    "To use **pythonbible**, first install it using pip:"
   ]
  },
  {
   "cell_type": "code",
   "execution_count": 1,
   "id": "interior-mortgage",
   "metadata": {},
   "outputs": [
    {
     "name": "stdout",
     "output_type": "stream",
     "text": [
      "Requirement already satisfied: pythonbible in /Users/nathanpatton/.conda/envs/pythonbible/lib/python3.9/site-packages (0.9.1)\r\n"
     ]
    }
   ],
   "source": [
    "import sys\n",
    "!{sys.executable} -m pip install pythonbible"
   ]
  },
  {
   "cell_type": "markdown",
   "id": "hawaiian-smith",
   "metadata": {},
   "source": [
    "# Basic Usage\n",
    "\n",
    "Import pythonbible into your python file/script. It's common to assign an alias (e.g. bible or pb) so that you do not have to type out \"pythonbible\" beyond the import statement."
   ]
  },
  {
   "cell_type": "code",
   "execution_count": 2,
   "id": "deluxe-foundation",
   "metadata": {},
   "outputs": [],
   "source": [
    "import pythonbible as bible"
   ]
  },
  {
   "cell_type": "markdown",
   "id": "dietary-paradise",
   "metadata": {},
   "source": [
    "## Finding Scripture References in Text\n",
    "\n",
    "Given a text, you can search for scripture references and return any that are found in a list of NormalizedReferences using the get_references function.\n",
    "\n",
    "For example, given the text “The parable of the lost sheep is told in Matthew 18:12-14 and Luke 15:3-7.” the get_references function should return a list of two NormalizedReferences: one for Matthew 18:12-14 and another for Luke 15:3-7."
   ]
  },
  {
   "cell_type": "code",
   "execution_count": 3,
   "id": "systematic-settle",
   "metadata": {},
   "outputs": [
    {
     "data": {
      "text/plain": [
       "[NormalizedReference(book=<Book.MATTHEW: 40>, start_chapter=18, start_verse=12, end_chapter=18, end_verse=14, end_book=None),\n",
       " NormalizedReference(book=<Book.LUKE: 42>, start_chapter=15, start_verse=3, end_chapter=15, end_verse=7, end_book=None)]"
      ]
     },
     "execution_count": 3,
     "metadata": {},
     "output_type": "execute_result"
    }
   ],
   "source": [
    "bible.get_references(\n",
    "    \"The parable of the lost sheep is told in Matthew 18:12-14 and Luke 15:3-7.\"\n",
    ")"
   ]
  },
  {
   "cell_type": "markdown",
   "id": "handy-semiconductor",
   "metadata": {},
   "source": [
    "## Converting References to Verse IDs\n",
    "\n",
    "Any single verse can be identified by an integer that contains the book, chapter, and verse information. The first 1-2 digits of the integer verse id represent the book, the next 3 digits represent the chapter, and the last 3 digits represent the verse.\n",
    "\n",
    "For example, “Genesis 1:1” would be represented as the integer 1001001.\n",
    "\n",
    "“John 3:16” would be represented as 43003016. The book of John is the 43rd book of the Bible, 003 represents the 3rd chapter, and 016 represents the 16th verse.\n",
    "\n",
    "Since the book, chapter, and verses are standardized and unlikely to change, this allows us to reference verses in a very efficient way."
   ]
  },
  {
   "cell_type": "markdown",
   "id": "valued-justice",
   "metadata": {},
   "source": [
    "### Converting a Single Reference to a List of Verse IDs\n",
    "\n",
    "Given a normalized scripture reference, which can contain one or more verses, the convert_reference_to_verse_ids function will convert that normalized scripture reference into a list of verse id integers.\n",
    "\n",
    "For example, given the following normalized scripture reference for Genesis 1:1-4, the conversion functionality would return the following tuple of verse id integers:"
   ]
  },
  {
   "cell_type": "code",
   "execution_count": 4,
   "id": "reflected-feeling",
   "metadata": {},
   "outputs": [
    {
     "data": {
      "text/plain": [
       "(1001001, 1001002, 1001003, 1001004)"
      ]
     },
     "execution_count": 4,
     "metadata": {},
     "output_type": "execute_result"
    }
   ],
   "source": [
    "bible.convert_reference_to_verse_ids(\n",
    "    bible.NormalizedReference(bible.Book.GENESIS, 1, 1, 1, 4)\n",
    ")"
   ]
  },
  {
   "cell_type": "markdown",
   "id": "special-boost",
   "metadata": {},
   "source": [
    "### Converting a List of References to a List of Verse IDs\n",
    "\n",
    "If you need to convert a list of references (rather than a single reference) to a list of verse ids, use the convert_references_to_verse_ids function rather than the convert_reference_to_verse_ids function."
   ]
  },
  {
   "cell_type": "code",
   "execution_count": 5,
   "id": "balanced-extra",
   "metadata": {},
   "outputs": [
    {
     "data": {
      "text/plain": [
       "[40018012,\n",
       " 40018013,\n",
       " 40018014,\n",
       " 42015003,\n",
       " 42015004,\n",
       " 42015005,\n",
       " 42015006,\n",
       " 42015007]"
      ]
     },
     "execution_count": 5,
     "metadata": {},
     "output_type": "execute_result"
    }
   ],
   "source": [
    "bible.convert_references_to_verse_ids([\n",
    "    bible.NormalizedReference(bible.Book.MATTHEW, 18, 12, 18, 14),\n",
    "    bible.NormalizedReference(bible.Book.LUKE, 15, 3, 15, 7),\n",
    "])"
   ]
  },
  {
   "cell_type": "markdown",
   "id": "efficient-relief",
   "metadata": {},
   "source": [
    "## Converting Verse IDs to References\n",
    "\n",
    "We can also take a list of integer verse ids and convert it back into a list of normalized references using the convert_verse_ids_to_references function.\n",
    "\n",
    "For example, the following list of verse ids represents the references Matthew 18:12-14 and Luke 15:3-7. The conversion functionality would return the list of normalized scripture references."
   ]
  },
  {
   "cell_type": "code",
   "execution_count": 6,
   "id": "political-edition",
   "metadata": {},
   "outputs": [
    {
     "data": {
      "text/plain": [
       "[NormalizedReference(book=<Book.MATTHEW: 40>, start_chapter=18, start_verse=12, end_chapter=18, end_verse=14, end_book=None),\n",
       " NormalizedReference(book=<Book.LUKE: 42>, start_chapter=15, start_verse=3, end_chapter=15, end_verse=7, end_book=None)]"
      ]
     },
     "execution_count": 6,
     "metadata": {},
     "output_type": "execute_result"
    }
   ],
   "source": [
    "bible.convert_verse_ids_to_references(\n",
    "    [40018012, 40018013, 40018014, 42015003, 42015004, 42015005, 42015006, 42015007]\n",
    ")"
   ]
  },
  {
   "cell_type": "markdown",
   "id": "wanted-arkansas",
   "metadata": {},
   "source": [
    "## Formatting Scripture References\n",
    "\n",
    "The pythonbible library includes functionality to format normalized scripture references into a human-readable string for display/print through the format_scripture_references function.\n",
    "\n",
    "This functionality sorts the list of references so that they appear in the same order they would in the Bible and also combines verses into ranges when possible.\n",
    "\n",
    "For example:"
   ]
  },
  {
   "cell_type": "code",
   "execution_count": 7,
   "id": "little-maldives",
   "metadata": {},
   "outputs": [
    {
     "data": {
      "text/plain": [
       "'Isaiah 55:13;Philippians 4:4-8'"
      ]
     },
     "execution_count": 7,
     "metadata": {},
     "output_type": "execute_result"
    }
   ],
   "source": [
    "bible.format_scripture_references(\n",
    "    bible.get_references(\n",
    "    \"My favorite verses are Philippians 4:8, Isaiah 55:13, and Philippians 4:4-7.\"\n",
    "    )\n",
    ")"
   ]
  },
  {
   "cell_type": "markdown",
   "id": "parliamentary-grounds",
   "metadata": {},
   "source": [
    "## Formatting Scripture Text - BETA\n",
    "\n",
    "This is still a work in progress, but there is some exising functionality related to this.\n",
    "\n",
    "There is a separate Python library pythonbible-parser that parses OSIS formatted XML files (and potentially other formats in the future) and generates python objects that contain the text of the Scripture. In the future it should also contain additional formatting and notes. That output for certain versions (namely American Standard Version) have been added to the pythonbible library in order to format scripture text for display and print.\n",
    "\n",
    "To format a single version, use the get_verse_text function.\n",
    "\n",
    "For example:"
   ]
  },
  {
   "cell_type": "code",
   "execution_count": 8,
   "id": "thrown-colors",
   "metadata": {},
   "outputs": [
    {
     "data": {
      "text/plain": [
       "'In the beginning God created the heaven and the earth.'"
      ]
     },
     "execution_count": 8,
     "metadata": {},
     "output_type": "execute_result"
    }
   ],
   "source": [
    "bible.get_verse_text(1001001)"
   ]
  },
  {
   "cell_type": "code",
   "execution_count": null,
   "id": "strange-cisco",
   "metadata": {},
   "outputs": [],
   "source": []
  }
 ],
 "metadata": {
  "kernelspec": {
   "display_name": "Python 3 (ipykernel)",
   "language": "python",
   "name": "python3"
  },
  "language_info": {
   "codemirror_mode": {
    "name": "ipython",
    "version": 3
   },
   "file_extension": ".py",
   "mimetype": "text/x-python",
   "name": "python",
   "nbconvert_exporter": "python",
   "pygments_lexer": "ipython3",
   "version": "3.9.4"
  }
 },
 "nbformat": 4,
 "nbformat_minor": 5
}
