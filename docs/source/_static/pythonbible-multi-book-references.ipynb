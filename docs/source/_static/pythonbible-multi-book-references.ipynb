{
 "cells": [
  {
   "cell_type": "markdown",
   "id": "determined-institution",
   "metadata": {},
   "source": [
    "# pythonbible Installation\n",
    "\n",
    "To use **pythonbible**, first install it using pip:"
   ]
  },
  {
   "cell_type": "code",
   "execution_count": null,
   "id": "homeless-training",
   "metadata": {},
   "outputs": [],
   "source": [
    "import sys\n",
    "!{sys.executable} -m pip install pythonbible"
   ]
  },
  {
   "cell_type": "markdown",
   "id": "distributed-rescue",
   "metadata": {},
   "source": [
    "# Advanced Usage\n",
    "\n",
    "Import pythonbible into your python file/script. It's common to assign an alias (e.g. bible or pb) so that you do not have to type out \"pythonbible\" beyond the import statement."
   ]
  },
  {
   "cell_type": "code",
   "execution_count": null,
   "id": "economic-major",
   "metadata": {},
   "outputs": [],
   "source": [
    "import pythonbible as bible"
   ]
  },
  {
   "cell_type": "markdown",
   "id": "distant-helicopter",
   "metadata": {},
   "source": [
    "## Multi Book References\n",
    "\n",
    "It is possible for a single reference to be a range that spans more than one book of the Bible.\n",
    "\n",
    "For example, the following references are all equally referencing the entire first five books of the Bible:\n",
    "\n",
    "* Genesis - Deuteronomy\n",
    "* Genesis 1 - Deuteronomy 34\n",
    "* Genesis 1:1 - Deuteronomy 34:12\n",
    "\n",
    "### Finding References\n",
    "\n",
    "When parsing a given text to find all the references contained within, if we find a ranged reference like those above that span multiple books of the Bible, we should parse that into a single normalized reference that includes the optional end_book attribute.\n",
    "\n",
    "For example, “Genesis - Deuteronomy” vs “Genesis;Exodus;Numbers;Leviticus;Deuteronomy”:"
   ]
  },
  {
   "cell_type": "code",
   "execution_count": null,
   "id": "unique-geology",
   "metadata": {},
   "outputs": [],
   "source": [
    "bible.get_references(\"Genesis - Deuteronomy\")"
   ]
  },
  {
   "cell_type": "markdown",
   "id": "romance-amateur",
   "metadata": {},
   "source": [
    "If rather than using the range, the text specified each book of the Bible separated by a comma or semi-colon (or just about anything), then the result would be a list of five normalized references, one for each of the five books referenced."
   ]
  },
  {
   "cell_type": "code",
   "execution_count": null,
   "id": "divided-continent",
   "metadata": {},
   "outputs": [],
   "source": [
    "bible.get_references(\"Genesis;Exodus;Leviticus;Numbers;Deuteronomy\")"
   ]
  },
  {
   "cell_type": "markdown",
   "id": "excellent-denmark",
   "metadata": {},
   "source": [
    "That list can optionally be optimized by converting it to verse ids and then back into references if so desired."
   ]
  },
  {
   "cell_type": "code",
   "execution_count": null,
   "id": "appropriate-soldier",
   "metadata": {},
   "outputs": [],
   "source": [
    "references = bible.get_references(\"Genesis;Exodus;Leviticus;Numbers;Deuteronomy\")\n",
    "verse_ids = bible.convert_references_to_verse_ids(references)\n",
    "bible.convert_verse_ids_to_references(verse_ids)"
   ]
  },
  {
   "cell_type": "markdown",
   "id": "danish-services",
   "metadata": {},
   "source": [
    "That optimization is optional as it can degrade performance for processing large ranges if that particular optimization is not necessary. This optimization will be run automatically when the list of references is formatted into a Scripture reference string.\n",
    "\n",
    "### Converting References to Verse IDs\n",
    "\n",
    "Whether a multi book range reference is in a single normalized reference or a list of one normalized reference for each book does not affect the results of converting that reference into a list of verse ids.\n",
    "\n",
    "### Converting Verse Ids to References\n",
    "\n",
    "When converting a list of verse ids into a list of references, multi book range references will always be optimized into a single normalized reference when possible.\n",
    "\n",
    "### Formatting References for Print/Display\n",
    "\n",
    "As mentioned earlier, when formatting references for print/display, pythonbible always optimizes the list of references into as few references as possible by using multi book range references.\n",
    "\n",
    "By default, chapter numbers will not be included when the entire book is included in the reference."
   ]
  },
  {
   "cell_type": "code",
   "execution_count": null,
   "id": "parallel-dealer",
   "metadata": {},
   "outputs": [],
   "source": [
    "references = bible.get_references(\"Genesis - Deuteronomy\")\n",
    "bible.format_scripture_references(references)"
   ]
  },
  {
   "cell_type": "markdown",
   "id": "empty-pattern",
   "metadata": {},
   "source": [
    "#### Always Include Chapter Numbers\n",
    "\n",
    "If you want to force pythonbible to include the chapter numbers even when the entire book is covered by the reference, you can use the always_include_chapter_numbers optional parameter of the format_scripture_references or format_single_reference functions, setting that optional parameter to be True.\n",
    "\n",
    "For example:"
   ]
  },
  {
   "cell_type": "code",
   "execution_count": null,
   "id": "digital-boston",
   "metadata": {},
   "outputs": [],
   "source": [
    "references = bible.get_references(\"Genesis - Deuteronomy\")\n",
    "bible.format_scripture_references(references, always_include_chapter_numbers=True)"
   ]
  }
 ],
 "metadata": {
  "kernelspec": {
   "display_name": "Python 3",
   "language": "python",
   "name": "python3"
  },
  "language_info": {
   "codemirror_mode": {
    "name": "ipython",
    "version": 3
   },
   "file_extension": ".py",
   "mimetype": "text/x-python",
   "name": "python",
   "nbconvert_exporter": "python",
   "pygments_lexer": "ipython3",
   "version": "3.9.2"
  }
 },
 "nbformat": 4,
 "nbformat_minor": 5
}
