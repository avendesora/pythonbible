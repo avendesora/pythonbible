{
 "cells": [
  {
   "cell_type": "markdown",
   "id": "determined-institution",
   "metadata": {},
   "source": [
    "# pythonbible Installation\n",
    "\n",
    "To use **pythonbible**, first install it using pip:"
   ]
  },
  {
   "cell_type": "code",
   "execution_count": null,
   "id": "homeless-training",
   "metadata": {},
   "outputs": [],
   "source": [
    "import sys\n",
    "!{sys.executable} -m pip install pythonbible"
   ]
  },
  {
   "cell_type": "markdown",
   "id": "distributed-rescue",
   "metadata": {},
   "source": [
    "# Advanced Usage\n",
    "\n",
    "Import pythonbible into your python file/script. It's common to assign an alias (e.g. bible or pb) so that you do not have to type out \"pythonbible\" beyond the import statement."
   ]
  },
  {
   "cell_type": "code",
   "execution_count": null,
   "id": "economic-major",
   "metadata": {},
   "outputs": [],
   "source": [
    "import pythonbible as bible"
   ]
  },
  {
   "cell_type": "markdown",
   "id": "distant-helicopter",
   "metadata": {},
   "source": [
    "## Single Chapter Books\n",
    "\n",
    "Several books of the Bible only contain one chapter, and there is some special functionality in pythonbible related to this.\n",
    "\n",
    "### Finding References\n",
    "\n",
    "When parsing a given text to find all the references contained within, if we find a reference for a single chapter book that contains only one number, rather than both chapter and verse numbers, we assume that number to be the verse number.\n",
    "\n",
    "#### Example: Obadiah 1 vs Genesis 1"
   ]
  },
  {
   "cell_type": "code",
   "execution_count": null,
   "id": "unique-geology",
   "metadata": {},
   "outputs": [],
   "source": [
    "references = bible.get_references(\"Obadiah 1\")\n",
    "references[0]"
   ]
  },
  {
   "cell_type": "markdown",
   "id": "romance-amateur",
   "metadata": {},
   "source": [
    "If a reference like this was found for a non single chapter book, the number would be assumed to be a chapter number rather than a verse number."
   ]
  },
  {
   "cell_type": "code",
   "execution_count": null,
   "id": "divided-continent",
   "metadata": {},
   "outputs": [],
   "source": [
    "references = bible.get_references(\"Genesis 1\")\n",
    "references[0]"
   ]
  },
  {
   "cell_type": "markdown",
   "id": "excellent-denmark",
   "metadata": {},
   "source": [
    "Rather than being interpreted as Genesis 1:1, this would be interpreted as Genesis 1:1-31.\n",
    "\n",
    "#### Example: Philemon 3-6 vs Genesis 3-6"
   ]
  },
  {
   "cell_type": "code",
   "execution_count": null,
   "id": "appropriate-soldier",
   "metadata": {},
   "outputs": [],
   "source": [
    "references = bible.get_references(\"Philemon 3-6\")\n",
    "references[0]"
   ]
  },
  {
   "cell_type": "markdown",
   "id": "danish-services",
   "metadata": {},
   "source": [
    "This is interpreted as Philemon 1:3-6. If a similar reference were encountered for a non single chapter book, both numbers would be assumed to be chapter numbers rather than verse numbers."
   ]
  },
  {
   "cell_type": "code",
   "execution_count": null,
   "id": "parallel-dealer",
   "metadata": {},
   "outputs": [],
   "source": [
    "references = bible.get_references(\"Genesis 3-6\")\n",
    "references[0]"
   ]
  },
  {
   "cell_type": "markdown",
   "id": "annual-preliminary",
   "metadata": {},
   "source": [
    "Rather than being interpreted as Genesis 1:3-6, this would be interpreted as Genesis 3:1-6:22.\n",
    "\n",
    "### Converting References to Verse IDs\n",
    "\n",
    "Because normalized references in pythonbible always explicitly include chapter and verse numbers, there is no difference in how references are converted to verse ids for single chapter books.\n",
    "\n",
    "### Converting Verse IDs to References\n",
    "\n",
    "Because verse ids in pythonbible always explicitly include chapter and verse numbers, there is no difference in how verse ids are converted to references for single chapter books.\n",
    "\n",
    "### Formatting References for Print/Display\n",
    "\n",
    "By default, when formatting references for print/display for references of a single chapter book, the chapter number will not be included.\n",
    "\n",
    "For example:"
   ]
  },
  {
   "cell_type": "code",
   "execution_count": null,
   "id": "cooperative-avatar",
   "metadata": {},
   "outputs": [],
   "source": [
    "references = bible.get_references(\"Jude 2-8\")\n",
    "bible.format_scripture_references(references)"
   ]
  },
  {
   "cell_type": "markdown",
   "id": "social-performance",
   "metadata": {},
   "source": [
    "The result should be the same even if the the chapter number is included in the original reference string."
   ]
  },
  {
   "cell_type": "code",
   "execution_count": null,
   "id": "metric-wesley",
   "metadata": {},
   "outputs": [],
   "source": [
    "references = bible.get_references(\"Jude 1:2-8\")\n",
    "bible.format_scripture_references(references)"
   ]
  },
  {
   "cell_type": "markdown",
   "id": "empty-pattern",
   "metadata": {},
   "source": [
    "#### Always Include Chapter Numbers\n",
    "\n",
    "If you want to force pythonbible to include the chapter numbers even for single chapter books, you can use the always_include_chapter_numbers optional parameter of the format_scripture_references or format_single_reference functions, setting that optional parameter to be True.\n",
    "\n",
    "For example:"
   ]
  },
  {
   "cell_type": "code",
   "execution_count": null,
   "id": "digital-boston",
   "metadata": {},
   "outputs": [],
   "source": [
    "references = bible.get_references(\"Jude 2-8\")\n",
    "bible.format_scripture_references(references, always_include_chapter_numbers=True)"
   ]
  }
 ],
 "metadata": {
  "kernelspec": {
   "display_name": "Python 3",
   "language": "python",
   "name": "python3"
  },
  "language_info": {
   "codemirror_mode": {
    "name": "ipython",
    "version": 3
   },
   "file_extension": ".py",
   "mimetype": "text/x-python",
   "name": "python",
   "nbconvert_exporter": "python",
   "pygments_lexer": "ipython3",
   "version": "3.9.2"
  }
 },
 "nbformat": 4,
 "nbformat_minor": 5
}
