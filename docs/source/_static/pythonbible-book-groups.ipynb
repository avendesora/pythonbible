{
 "cells": [
  {
   "cell_type": "markdown",
   "id": "determined-institution",
   "metadata": {},
   "source": [
    "# pythonbible Installation\n",
    "\n",
    "To use **pythonbible**, first install it using pip:"
   ]
  },
  {
   "cell_type": "code",
   "execution_count": null,
   "id": "homeless-training",
   "metadata": {},
   "outputs": [],
   "source": [
    "import sys\n",
    "!{sys.executable} -m pip install pythonbible"
   ]
  },
  {
   "cell_type": "markdown",
   "id": "distributed-rescue",
   "metadata": {},
   "source": [
    "# Advanced Usage\n",
    "\n",
    "Import pythonbible into your python file/script. It's common to assign an alias (e.g. bible or pb) so that you do not have to type out \"pythonbible\" beyond the import statement."
   ]
  },
  {
   "cell_type": "code",
   "execution_count": null,
   "id": "economic-major",
   "metadata": {},
   "outputs": [],
   "source": [
    "import pythonbible as bible"
   ]
  },
  {
   "cell_type": "markdown",
   "id": "distant-helicopter",
   "metadata": {},
   "source": [
    "## Book Groups\n",
    "\n",
    "The books of the Bible can be categorized into different groups.\n",
    "\n",
    "The first and biggest categorization is dividing the books into the Old Testament (Genesis - Malachi) and the New Testament (Matthew - Revelation).\n",
    "\n",
    "Within the Old Testament, the books can be further divided as follows:\n",
    "\n",
    "* Law (Genesis - Deuteronomy)\n",
    "* History (Joshua - Esther)\n",
    "* Poetry/Wisdom (Job - Song of Solomon)\n",
    "* Prophecy (Isaiah - Malachi)\n",
    "\n",
    "The Prophecy books can be further divided into:\n",
    "\n",
    "* Major Prophets (Isaiah - Daniel)\n",
    "* Minor Prophets (Hosea - Malachi)\n",
    "\n",
    "Within the New Testament, the books can be divided as follows:\n",
    "\n",
    "* Gospel (Matthew - John)\n",
    "* History (Acts)\n",
    "* Epistles (Romans - Jude)\n",
    "* Apocalyptic (Revelation)\n",
    "\n",
    "The Epistles can be further divided into:\n",
    "\n",
    "* Pauline Epistles (Romans - Philemon)\n",
    "* General Epistles (Hebrews - Jude)\n",
    "\n",
    "### Finding References by Book Groups\n",
    "\n",
    "By default, when **pythonbible** parses text to find all references contained within, it does not take book groups into consideration.\n",
    "\n",
    "For example:"
   ]
  },
  {
   "cell_type": "code",
   "execution_count": null,
   "id": "unique-geology",
   "metadata": {},
   "outputs": [],
   "source": [
    "bible.get_references(\"What are all of the books of the Old Testament?\")"
   ]
  },
  {
   "cell_type": "markdown",
   "id": "romance-amateur",
   "metadata": {},
   "source": [
    "#### Finding References by Default Book Groups\n",
    "\n",
    "When parsing text to find all references contained within, you can pass in an optional `book_groups` parameter telling **pythonbible** what book groups to take into consideration.\n",
    "\n",
    "The **pythonbible** library includes a `book_groups` value for you to use that includes all the book groups described above. To use that, pass `BOOK_GROUPS` as the value for the optional `book_groups` argument.\n",
    "\n",
    "For example:"
   ]
  },
  {
   "cell_type": "code",
   "execution_count": null,
   "id": "divided-continent",
   "metadata": {},
   "outputs": [],
   "source": [
    "bible.get_references(\n",
    "    \"What are all of the books of the Old Testament?\",\n",
    "    book_groups=bible.BOOK_GROUPS\n",
    ")"
   ]
  },
  {
   "cell_type": "markdown",
   "id": "excellent-denmark",
   "metadata": {},
   "source": [
    "When formatting the resulting reference for print/display, the reference text will use the books (and chapters and verses, if needed) rather than the book group.\n",
    "\n",
    "For example:"
   ]
  },
  {
   "cell_type": "code",
   "execution_count": null,
   "id": "appropriate-soldier",
   "metadata": {},
   "outputs": [],
   "source": [
    "references = bible.get_references(\n",
    "    \"What are all of the books of the Old Testament?\",\n",
    "    book_groups=bible.BOOK_GROUPS\n",
    ")\n",
    "bible.format_scripture_references(references)"
   ]
  },
  {
   "cell_type": "markdown",
   "id": "composed-chancellor",
   "metadata": {},
   "source": [
    "If you want to include the chapter and verse numbers, set the optional `always_include_chapter_numbers` argument to `True` for the `format_scripture_references` (or `format_single_reference`) function."
   ]
  },
  {
   "cell_type": "code",
   "execution_count": null,
   "id": "electric-blogger",
   "metadata": {},
   "outputs": [],
   "source": [
    "bible.format_scripture_references(\n",
    "    references,\n",
    "    always_include_chapter_numbers=True\n",
    ")"
   ]
  },
  {
   "cell_type": "markdown",
   "id": "danish-services",
   "metadata": {},
   "source": [
    "#### Finding References by Custom Book Groups\n",
    "\n",
    "If you don’t want to use the book groups as defined above but rather a subset of them or additional categorizations or completely custom categorizations, you can do that by passing in a custom value for the `book_groups` optional argument of the get_references function.\n",
    "\n",
    "\n",
    "The expected type of the book_groups argument is a `dict[str, list[Book]]` where the string key is a regular expression to be used to match to that particular book group, and the list of Book objects are the books of the Bible associated with that book group.\n",
    "\n",
    "There is a `BookGroup` `Enum` included to help with this.\n",
    "\n",
    "For example, if you wanted to only use the Old Testament and New Testament book groups, the following example using the default book groups would return too many references."
   ]
  },
  {
   "cell_type": "code",
   "execution_count": null,
   "id": "happy-treasurer",
   "metadata": {},
   "outputs": [],
   "source": [
    "bible.get_references(\n",
    "    \"I want to find the Old Testament books, not the Gospels.\",\n",
    "    book_groups=bible.BOOK_GROUPS\n",
    ")"
   ]
  },
  {
   "cell_type": "markdown",
   "id": "cosmetic-certificate",
   "metadata": {},
   "source": [
    "Instead, you will need to define a custom `book_groups` value containing only the Old and New Testament information."
   ]
  },
  {
   "cell_type": "code",
   "execution_count": null,
   "id": "golden-covering",
   "metadata": {},
   "outputs": [],
   "source": [
    "book_groups_subset = {\n",
    "    bible.BookGroup.OLD_TESTAMENT.regular_expression: bible.BookGroup.OLD_TESTAMENT.books,\n",
    "    bible.BookGroup.NEW_TESTAMENT.regular_expression: bible.BookGroup.NEW_TESTAMENT.books,\n",
    "}\n",
    "bible.get_references(\n",
    "    \"I want to find the Old Testament books, not the Gospels.\",\n",
    "    book_groups=book_groups_subset\n",
    ")"
   ]
  },
  {
   "cell_type": "markdown",
   "id": "institutional-stamp",
   "metadata": {},
   "source": [
    "With the custom subset book groups definition, only the Old Testament reference is included in the results and not the Gospels reference.\n",
    "\n",
    "You can also define your own completely custom book groups definition. For example:"
   ]
  },
  {
   "cell_type": "code",
   "execution_count": null,
   "id": "built-bottom",
   "metadata": {},
   "outputs": [],
   "source": [
    "custom_book_groups = {\n",
    "    \"my favorite books\": [bible.Book.PSALMS, bible.Book.PROVERBS, bible.Book.JOHN, bible.Book.PHILIPPIANS, bible.Book.JAMES],\n",
    "}\n",
    "references = bible.get_references(\n",
    "    \"What are my favorite books of the Bible?\",\n",
    "    book_groups=custom_book_groups\n",
    ")\n",
    "\n",
    "print(f\"My favorite books of the Bible are {bible.format_scripture_references(references)}!\")"
   ]
  }
 ],
 "metadata": {
  "kernelspec": {
   "display_name": "Python 3",
   "language": "python",
   "name": "python3"
  },
  "language_info": {
   "codemirror_mode": {
    "name": "ipython",
    "version": 3
   },
   "file_extension": ".py",
   "mimetype": "text/x-python",
   "name": "python",
   "nbconvert_exporter": "python",
   "pygments_lexer": "ipython3",
   "version": "3.9.2"
  }
 },
 "nbformat": 4,
 "nbformat_minor": 5
}
